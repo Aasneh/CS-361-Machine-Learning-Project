{
 "cells": [
  {
   "cell_type": "code",
   "execution_count": 30,
   "metadata": {},
   "outputs": [],
   "source": [
    "import numpy as np\n",
    "import pandas as pd\n",
    "import math as e\n",
    "import pickle\n",
    "import matplotlib.pyplot as plt\n",
    "import seaborn as sns"
   ]
  },
  {
   "cell_type": "markdown",
   "metadata": {},
   "source": [
    "### XGBOOST TREE NODES\n",
    "A node is a fundamental unit of the regression tree.  \n",
    "It uses internal gain based on hessain and gradient to calculate the best split.  \n",
    "A weighted quantile sketch is used to help in creating nodes and leaf values are caclulated based on Loss function.  \n",
    "\n",
    "Inputs:  \n",
    "\n",
    "------------------------------------\n",
    "- x: Training Dataframe.\n",
    "- gradient: gradient of the loss function.\n",
    "- hessian: second order derivative of the loss function.\n",
    "- idxs: used to keep track of samples within the tree structure.\n",
    "- subsample_cols: controls the subsampling of columns (features) during each boosting iteration.\n",
    "- min_leaf: minimum number of samples for a node to be considered a node.\n",
    "- min_child_weight: sum of the heassian inside a node is a meaure of purity.\n",
    "- depth: limits the height of a tree to prevent overfitting.\n",
    "- lambda: L2 regularization term on weights. Increasing this value will make model more conservative.\n",
    "- gamma: Used for pruning. This parameter also prevents over fitting and is present in the the calculation of the gain (structure-score). As this is subtracted from the gain it essentially sets a minimum gain amount to make a split in a node. \n",
    "- eps: This parameter is used in the quantile weighted sketch.\n",
    "------------------------------------\n",
    "\n",
    "Output: Tree Object."
   ]
  },
  {
   "cell_type": "code",
   "execution_count": 16,
   "metadata": {},
   "outputs": [],
   "source": [
    "class Node:\n",
    "    def __init__(self,x,gradient,hessian,idxs,subsample_cols = 1, min_leaf = 1, min_child_weight = 1, \n",
    "                 depth = 2, lambda_ = 1, gamma = 1, eps = 0.1):\n",
    "        self.x = x\n",
    "        self.gradient = gradient\n",
    "        self.hessian = hessian\n",
    "        self.idxs = idxs\n",
    "        self.subsample_cols = subsample_cols\n",
    "        self.min_leaf = min_leaf\n",
    "        self.min_child_weight = min_child_weight\n",
    "        self.depth = depth\n",
    "        self.lambda_ = lambda_\n",
    "        self.gamma = gamma\n",
    "        self.eps = eps\n",
    "        self.rows_cnt = len(idxs)\n",
    "        self.col_count = x.shape[1]\n",
    "        \n",
    "        # print(gradient[self.idxs])\n",
    "        # Select a subspace of attributes.\n",
    "        self.column_subsample = np.random.permutation(self.col_count)[:round(self.subsample_cols*self.col_count)]\n",
    "        \n",
    "        self.val = self.calc_val(self.gradient[self.idxs],self.hessian[self.idxs])\n",
    "        \n",
    "        self.score = float('-inf')\n",
    "        self.find_split()\n",
    "        # print(self.is_leaf)\n",
    "        \n",
    "    def calc_val(self,gradient,hessian):\n",
    "        # Calculate the optimal value of a leaf.\n",
    "        value = np.sum(gradient)/(np.sum(hessian)+self.lambda_)\n",
    "        value = value*-1\n",
    "        return value\n",
    "\n",
    "    def find_split(self):\n",
    "        # Scans through every column & calculates the best split point. If node is split, \n",
    "        # two other nodes are created accordingly. If no split is better then we just return \n",
    "        # without making splits.\n",
    "        \n",
    "        for col in self.column_subsample:\n",
    "            self.find_greedy_split(col)\n",
    "        \n",
    "        # print(self.score)\n",
    "        \n",
    "        if (self.is_leaf()):\n",
    "            # print(\"I am Leaf\")\n",
    "            # print(str(self.score) + \" \" +str(self.depth))\n",
    "            return\n",
    "        \n",
    "        # print(\"----------------Hello----------------\")\n",
    "        \n",
    "        # print(self.split)\n",
    "        \n",
    "        split_col = self.split_col()\n",
    "        \n",
    "        lhs = np.nonzero(split_col <= self.split)[0]\n",
    "        rhs = np.nonzero(split_col > self.split)[0]\n",
    "        \n",
    "        # print(lhs)\n",
    "        # print(rhs)\n",
    "        \n",
    "        # print(\"----------------Bye------------------\")\n",
    "        \n",
    "        self.lhs = Node(x = self.x, gradient= self.gradient, hessian = self.hessian, idxs = self.idxs[lhs],\n",
    "                        min_leaf= self.min_leaf, depth = self.depth - 1, lambda_= self.lambda_, \n",
    "                        min_child_weight = self.min_child_weight, eps = self.eps, \n",
    "                        subsample_cols = self.subsample_cols)\n",
    "        \n",
    "        self.rhs = Node(x = self.x, gradient= self.gradient, hessian = self.hessian, idxs = self.idxs[rhs],\n",
    "                        min_leaf= self.min_leaf, depth = self.depth - 1, lambda_= self.lambda_, \n",
    "                        min_child_weight = self.min_child_weight, eps = self.eps, \n",
    "                        subsample_cols = self.subsample_cols)\n",
    "    \n",
    "    def find_greedy_split(self,col):\n",
    "        # For the given attribute 'col' we try to calculate the best possible split.\n",
    "        # Globally updates the best score and split point if a better split point is found.\n",
    "        \n",
    "        x = self.x.values[self.idxs, col]   # returns numpy array of values of 'col' at certain indices\n",
    "        \n",
    "        for r in range(0,self.rows_cnt):\n",
    "            # print(x[r])\n",
    "            lhs = x <= x[r]\n",
    "            rhs = x > x[r]\n",
    "            \n",
    "            lhs_indices = np.nonzero(x <= x[r])[0]            \n",
    "            rhs_indices = np.nonzero(x > x[r])[0]   \n",
    "            \n",
    "            # print(lhs_indices) \n",
    "            # print(lhs_indices) \n",
    "            \n",
    "            if(len(lhs_indices) < self.min_leaf or len(rhs_indices) < self.min_leaf or\n",
    "               self.hessian[lhs_indices].sum() < self.min_child_weight or \n",
    "               self.hessian[rhs_indices].sum() < self.min_child_weight):\n",
    "                continue\n",
    "            \n",
    "            poss_score = self.gain(lhs_indices,rhs_indices)\n",
    "            \n",
    "            if poss_score > self.score:\n",
    "                # print(col)\n",
    "                self.col = col\n",
    "                self.score = poss_score\n",
    "                self.split = x[r]\n",
    "                \n",
    "    def gain(self,lhs,rhs):\n",
    "        # Calculates the gain for a particular split.\n",
    "        gradient = self.gradient[self.idxs]        \n",
    "        hessian = self.hessian[self.idxs]        \n",
    "        \n",
    "        lhs_gradient = gradient[lhs].sum()\n",
    "        lhs_hessian = hessian[lhs].sum()\n",
    "        \n",
    "        rhs_gradient = gradient[rhs].sum()\n",
    "        rhs_hessian = hessian[rhs].sum()\n",
    "        \n",
    "        gain = 0.5*((lhs_gradient**2)/(lhs_hessian+self.lambda_) + (rhs_gradient**2)/(rhs_hessian+self.lambda_)-\n",
    "                    ((gradient.sum())**2)/(hessian.sum()+self.lambda_)) - self.gamma\n",
    "        \n",
    "        return gain\n",
    "    \n",
    "    def split_col(self):    # Return values of a particular column\n",
    "        return self.x.values[self.idxs, self.col]\n",
    "    \n",
    "    def is_leaf(self):      # Check if node is leaf or not\n",
    "        # print(str(self.score) + \" \" +str(self.depth))\n",
    "        return self.score == float('-inf') or self.depth <=0 or len(self.x) == 1\n",
    "    \n",
    "    def predict(self,x):\n",
    "        return np.array([self.predict_val(xi) for xi in x])\n",
    "    \n",
    "    def predict_val(self,xi):\n",
    "        # print(xi)\n",
    "        if (self.is_leaf()):\n",
    "            return self.val\n",
    "        \n",
    "        node = self.lhs if xi[self.col] <= self.split else self.rhs\n",
    "        \n",
    "        return node.predict_val(xi)\n",
    "    \n",
    "    \n",
    "    "
   ]
  },
  {
   "cell_type": "markdown",
   "metadata": {},
   "source": [
    "### XGBOOST TREE\n",
    "The XGBoost tree is a regression tree, which builds the regression tree from pseudo residuals/ previous predictions to make better estimates.  \n",
    "\n",
    "Inputs:  \n",
    "\n",
    "------------------------------------\n",
    "- x: Training Dataframe.\n",
    "- gradient: gradient of the loss function.\n",
    "- hessian: second order derivative of the loss function.\n",
    "- idxs: used to keep track of samples within the tree structure.\n",
    "- subsample_cols: controls the subsampling of columns (features) during each boosting iteration.\n",
    "- min_leaf: minimum number of samples for a node to be considered a node.\n",
    "- min_child_weight: sum of the heassian inside a node is a meaure of purity.\n",
    "- depth: limits the height of a tree to prevent overfitting.\n",
    "- lambda: L2 regularization term on weights. Increasing this value will make model more conservative.\n",
    "- gamma: Used for pruning. This parameter also prevents over fitting and is present in the the calculation of the gain (structure-score). As this is subtracted from the gain it essentially sets a minimum gain amount to make a split in a node. \n",
    "- eps: This parameter is used in the quantile weighted sketch.\n",
    "------------------------------------\n",
    "\n",
    "Output: Root of the Regression tree."
   ]
  },
  {
   "cell_type": "code",
   "execution_count": 17,
   "metadata": {},
   "outputs": [],
   "source": [
    "class XGBoostTree:\n",
    "    def fit(self,x,gradient,hessian,subsample_cols = 1, min_leaf = 1, min_child_weight = 1, \n",
    "            depth = 7, lambda_ = 1, gamma = 1, eps = 0.1):\n",
    "        self.root = Node(x, gradient, hessian, np.array(np.arange(len(x))), subsample_cols, min_leaf, min_child_weight,\n",
    "                         depth, lambda_, gamma, eps)\n",
    "    def predict(self,X):\n",
    "        return self.root.predict(X.values)"
   ]
  },
  {
   "cell_type": "markdown",
   "metadata": {},
   "source": [
    "### XGBOOST Regression Model\n",
    "This is the full application of the XGBoost Algorithm to create and fit the model on a dataset to make further predictions. \n",
    "\n",
    "Inputs:  \n",
    "\n",
    "------------------------------------\n",
    "- x: Training Dataframe.\n",
    "- gradient: gradient of the loss function.\n",
    "- hessian: second order derivative of the loss function.\n",
    "- idxs: used to keep track of samples within the tree structure.\n",
    "- subsample_cols: controls the subsampling of columns (features) during each boosting iteration.\n",
    "- min_leaf: minimum number of samples for a node to be considered a node.\n",
    "- min_child_weight: sum of the heassian inside a node is a meaure of purity.\n",
    "- depth: limits the height of a tree to prevent overfitting.\n",
    "- lambda: L2 regularization term on weights. Increasing this value will make model more conservative.\n",
    "- gamma: Used for pruning. This parameter also prevents over fitting and is present in the the calculation of the gain (structure-score). As this is subtracted from the gain it essentially sets a minimum gain amount to make a split in a node. \n",
    "- eps: This parameter is used in the quantile weighted sketch.\n",
    "------------------------------------\n",
    "\n",
    "Output: Object used for gradient boosting."
   ]
  },
  {
   "cell_type": "code",
   "execution_count": 18,
   "metadata": {},
   "outputs": [],
   "source": [
    "class XGBoostRegression:\n",
    "    \n",
    "    def __init__(self):\n",
    "        self.trees = []\n",
    "    \n",
    "    def gradient(self,prediction, actual):\n",
    "        return (2*(prediction-actual))\n",
    "    \n",
    "    def hessian(self,prediction, actual):\n",
    "        return (np.full((prediction.shape[0],),2).astype('float'))\n",
    "    \n",
    "    def fit(self, X, Y, subsample_cols = 1, min_leaf = 1, min_child_weight = 1, \n",
    "            depth = 5, lambda_ = 1, gamma = 1, eps = 0.1, learning_rate = 0.4, boosting_rounds = 5):\n",
    "        self.X = X\n",
    "        self.Y = Y\n",
    "        self.subsample_cols = subsample_cols\n",
    "        self.min_leaf = min_leaf\n",
    "        self.min_child_weight = min_child_weight\n",
    "        self.depth = depth\n",
    "        self.lambda_ = lambda_\n",
    "        self.gamma = gamma\n",
    "        self.eps = eps\n",
    "        self.learning_rate = learning_rate\n",
    "        self.boosting_rounds = boosting_rounds\n",
    "        \n",
    "        self.prediction = np.full((X.shape[0],1),np.mean(Y)).flatten().astype('float')\n",
    "        \n",
    "        # print(self.prediction)\n",
    "        \n",
    "        for booster in range(0,self.boosting_rounds):\n",
    "            Gradient = self.gradient(np.array(self.prediction), np.array(self.Y))\n",
    "            Hessian = self.hessian(np.array(self.prediction), np.array(self.Y))\n",
    "            \n",
    "            # print(Gradient)\n",
    "            # print(Hessian)\n",
    "            \n",
    "            boosting_tree = XGBoostTree()\n",
    "            boosting_tree.fit(  self.X, Gradient,Hessian, self.subsample_cols, self.min_leaf,\n",
    "                                self.min_child_weight,self.depth,self.lambda_, self.gamma,\n",
    "                                self.eps)\n",
    "            self.prediction = self.prediction + learning_rate*(boosting_tree.predict(self.X))\n",
    "            self.trees.append(boosting_tree)\n",
    "            print(\"Iteration: \"+ str(booster))\n",
    "    \n",
    "    def predict(self,X):\n",
    "        \n",
    "        pred = np.zeros(X.shape[0])\n",
    "        \n",
    "        for tree in self.trees:\n",
    "            pred += self.learning_rate*(tree.predict(X))\n",
    "        \n",
    "        # print(pred)\n",
    "        \n",
    "        return np.full((X.shape[0],),np.mean(self.Y)).astype('float') + pred"
   ]
  },
  {
   "cell_type": "code",
   "execution_count": 19,
   "metadata": {},
   "outputs": [],
   "source": [
    "data = {'Dosage':[10,20,25,37],\n",
    "        'Level' : [10,20,25,37]}\n",
    "df = pd.DataFrame(data)\n",
    "\n",
    "test_data = {'Dosage':[10,20,25,37],\n",
    "             'Level' : [10,20,25,37]}\n",
    "test_df = pd.DataFrame(test_data)\n",
    "\n",
    "Y = [-10,7,8,-7]"
   ]
  },
  {
   "cell_type": "code",
   "execution_count": 20,
   "metadata": {},
   "outputs": [
    {
     "name": "stdout",
     "output_type": "stream",
     "text": [
      "Iteration: 0\n",
      "Iteration: 1\n",
      "Iteration: 2\n",
      "Iteration: 3\n",
      "Iteration: 4\n",
      "Iteration: 5\n",
      "Iteration: 6\n",
      "Iteration: 7\n",
      "Iteration: 8\n"
     ]
    }
   ],
   "source": [
    "model = XGBoostRegression()\n",
    "model.fit(df,Y,boosting_rounds = 9,gamma = 0)"
   ]
  },
  {
   "cell_type": "code",
   "execution_count": 21,
   "metadata": {},
   "outputs": [
    {
     "data": {
      "text/plain": [
       "array([-9.41731151,  6.53998277,  7.47864714, -6.6013184 ])"
      ]
     },
     "execution_count": 21,
     "metadata": {},
     "output_type": "execute_result"
    }
   ],
   "source": [
    "model.predict(test_df)"
   ]
  },
  {
   "cell_type": "code",
   "execution_count": 22,
   "metadata": {},
   "outputs": [
    {
     "name": "stdout",
     "output_type": "stream",
     "text": [
      "0.24547438794824317\n"
     ]
    }
   ],
   "source": [
    "print(np.mean((model.predict(test_df) - Y)**2))"
   ]
  },
  {
   "cell_type": "code",
   "execution_count": 23,
   "metadata": {},
   "outputs": [],
   "source": [
    "with open('dataframe.pickle', 'rb') as f:\n",
    "    new_df = pickle.load(f)"
   ]
  },
  {
   "cell_type": "code",
   "execution_count": 24,
   "metadata": {},
   "outputs": [
    {
     "data": {
      "text/plain": [
       "Index(['PJME_MW', 'Lag1', 'Lag2', 'Hour_sin', 'Hour_cos', 'Day_sin',\n",
       "       'Day_cos'],\n",
       "      dtype='object')"
      ]
     },
     "execution_count": 24,
     "metadata": {},
     "output_type": "execute_result"
    }
   ],
   "source": [
    "new_df.columns"
   ]
  },
  {
   "cell_type": "code",
   "execution_count": 25,
   "metadata": {},
   "outputs": [],
   "source": [
    "X = new_df.drop(columns=['PJME_MW'])\n",
    "Y = new_df['PJME_MW']"
   ]
  },
  {
   "cell_type": "code",
   "execution_count": 26,
   "metadata": {},
   "outputs": [
    {
     "data": {
      "text/html": [
       "<div>\n",
       "<style scoped>\n",
       "    .dataframe tbody tr th:only-of-type {\n",
       "        vertical-align: middle;\n",
       "    }\n",
       "\n",
       "    .dataframe tbody tr th {\n",
       "        vertical-align: top;\n",
       "    }\n",
       "\n",
       "    .dataframe thead th {\n",
       "        text-align: right;\n",
       "    }\n",
       "</style>\n",
       "<table border=\"1\" class=\"dataframe\">\n",
       "  <thead>\n",
       "    <tr style=\"text-align: right;\">\n",
       "      <th></th>\n",
       "      <th>Lag1</th>\n",
       "      <th>Lag2</th>\n",
       "      <th>Hour_sin</th>\n",
       "      <th>Hour_cos</th>\n",
       "      <th>Day_sin</th>\n",
       "      <th>Day_cos</th>\n",
       "    </tr>\n",
       "  </thead>\n",
       "  <tbody>\n",
       "    <tr>\n",
       "      <th>0</th>\n",
       "      <td>27077.0</td>\n",
       "      <td>25591.0</td>\n",
       "      <td>0.258819</td>\n",
       "      <td>0.965926</td>\n",
       "      <td>-2.449294e-16</td>\n",
       "      <td>1.000000</td>\n",
       "    </tr>\n",
       "    <tr>\n",
       "      <th>1</th>\n",
       "      <td>25957.0</td>\n",
       "      <td>24235.0</td>\n",
       "      <td>0.500000</td>\n",
       "      <td>0.866025</td>\n",
       "      <td>-2.449294e-16</td>\n",
       "      <td>1.000000</td>\n",
       "    </tr>\n",
       "    <tr>\n",
       "      <th>2</th>\n",
       "      <td>24930.0</td>\n",
       "      <td>23121.0</td>\n",
       "      <td>0.707107</td>\n",
       "      <td>0.707107</td>\n",
       "      <td>-2.449294e-16</td>\n",
       "      <td>1.000000</td>\n",
       "    </tr>\n",
       "    <tr>\n",
       "      <th>3</th>\n",
       "      <td>24359.0</td>\n",
       "      <td>22445.0</td>\n",
       "      <td>0.866025</td>\n",
       "      <td>0.500000</td>\n",
       "      <td>-2.449294e-16</td>\n",
       "      <td>1.000000</td>\n",
       "    </tr>\n",
       "    <tr>\n",
       "      <th>4</th>\n",
       "      <td>24400.0</td>\n",
       "      <td>22332.0</td>\n",
       "      <td>0.965926</td>\n",
       "      <td>0.258819</td>\n",
       "      <td>-2.449294e-16</td>\n",
       "      <td>1.000000</td>\n",
       "    </tr>\n",
       "    <tr>\n",
       "      <th>...</th>\n",
       "      <td>...</td>\n",
       "      <td>...</td>\n",
       "      <td>...</td>\n",
       "      <td>...</td>\n",
       "      <td>...</td>\n",
       "      <td>...</td>\n",
       "    </tr>\n",
       "    <tr>\n",
       "      <th>127745</th>\n",
       "      <td>31448.0</td>\n",
       "      <td>32878.0</td>\n",
       "      <td>-0.866025</td>\n",
       "      <td>0.500000</td>\n",
       "      <td>1.716633e-02</td>\n",
       "      <td>0.999853</td>\n",
       "    </tr>\n",
       "    <tr>\n",
       "      <th>127746</th>\n",
       "      <td>31246.0</td>\n",
       "      <td>32586.0</td>\n",
       "      <td>-0.707107</td>\n",
       "      <td>0.707107</td>\n",
       "      <td>1.716633e-02</td>\n",
       "      <td>0.999853</td>\n",
       "    </tr>\n",
       "    <tr>\n",
       "      <th>127747</th>\n",
       "      <td>30526.0</td>\n",
       "      <td>31877.0</td>\n",
       "      <td>-0.500000</td>\n",
       "      <td>0.866025</td>\n",
       "      <td>1.716633e-02</td>\n",
       "      <td>0.999853</td>\n",
       "    </tr>\n",
       "    <tr>\n",
       "      <th>127748</th>\n",
       "      <td>29209.0</td>\n",
       "      <td>30590.0</td>\n",
       "      <td>-0.258819</td>\n",
       "      <td>0.965926</td>\n",
       "      <td>1.716633e-02</td>\n",
       "      <td>0.999853</td>\n",
       "    </tr>\n",
       "    <tr>\n",
       "      <th>127749</th>\n",
       "      <td>27617.0</td>\n",
       "      <td>29036.0</td>\n",
       "      <td>0.000000</td>\n",
       "      <td>1.000000</td>\n",
       "      <td>3.432760e-02</td>\n",
       "      <td>0.999411</td>\n",
       "    </tr>\n",
       "  </tbody>\n",
       "</table>\n",
       "<p>127750 rows × 6 columns</p>\n",
       "</div>"
      ],
      "text/plain": [
       "           Lag1     Lag2  Hour_sin  Hour_cos       Day_sin   Day_cos\n",
       "0       27077.0  25591.0  0.258819  0.965926 -2.449294e-16  1.000000\n",
       "1       25957.0  24235.0  0.500000  0.866025 -2.449294e-16  1.000000\n",
       "2       24930.0  23121.0  0.707107  0.707107 -2.449294e-16  1.000000\n",
       "3       24359.0  22445.0  0.866025  0.500000 -2.449294e-16  1.000000\n",
       "4       24400.0  22332.0  0.965926  0.258819 -2.449294e-16  1.000000\n",
       "...         ...      ...       ...       ...           ...       ...\n",
       "127745  31448.0  32878.0 -0.866025  0.500000  1.716633e-02  0.999853\n",
       "127746  31246.0  32586.0 -0.707107  0.707107  1.716633e-02  0.999853\n",
       "127747  30526.0  31877.0 -0.500000  0.866025  1.716633e-02  0.999853\n",
       "127748  29209.0  30590.0 -0.258819  0.965926  1.716633e-02  0.999853\n",
       "127749  27617.0  29036.0  0.000000  1.000000  3.432760e-02  0.999411\n",
       "\n",
       "[127750 rows x 6 columns]"
      ]
     },
     "execution_count": 26,
     "metadata": {},
     "output_type": "execute_result"
    }
   ],
   "source": [
    "X"
   ]
  },
  {
   "cell_type": "code",
   "execution_count": 27,
   "metadata": {},
   "outputs": [
    {
     "data": {
      "text/plain": [
       "0         27160.0\n",
       "1         25791.0\n",
       "2         25052.0\n",
       "3         24797.0\n",
       "4         25026.0\n",
       "           ...   \n",
       "127745    44284.0\n",
       "127746    43751.0\n",
       "127747    42402.0\n",
       "127748    40164.0\n",
       "127749    38608.0\n",
       "Name: PJME_MW, Length: 127750, dtype: float64"
      ]
     },
     "execution_count": 27,
     "metadata": {},
     "output_type": "execute_result"
    }
   ],
   "source": [
    "Y"
   ]
  },
  {
   "cell_type": "code",
   "execution_count": 28,
   "metadata": {},
   "outputs": [
    {
     "name": "stdout",
     "output_type": "stream",
     "text": [
      "Iteration: 0\n",
      "Iteration: 1\n"
     ]
    }
   ],
   "source": [
    "model = XGBoostRegression()\n",
    "model.fit(X,Y,min_leaf=5,min_child_weight=5,boosting_rounds=2)"
   ]
  },
  {
   "cell_type": "code",
   "execution_count": 29,
   "metadata": {},
   "outputs": [
    {
     "name": "stdout",
     "output_type": "stream",
     "text": [
      "19684637.543966975\n"
     ]
    }
   ],
   "source": [
    "print(np.mean((model.predict(X) - Y)**2))"
   ]
  },
  {
   "cell_type": "code",
   "execution_count": 33,
   "metadata": {},
   "outputs": [
    {
     "data": {
      "image/png": "[encoded data removed]",
      "text/plain": [
       "<Figure size 640x480 with 1 Axes>"
      ]
     },
     "metadata": {},
     "output_type": "display_data"
    }
   ],
   "source": [
    "plt.plot(X, Y, label='actual',color='blue', marker='o')\n",
    "\n",
    "plt.plot(X, model.predict(X), label='predicted',color='red', marker='s')\n",
    "\n",
    "plt.xlabel('X')\n",
    "plt.ylabel('Y')\n",
    "# plt.title('X vs Y1 and X vs Y2')\n",
    "\n",
    "# Adding legend\n",
    "plt.legend()\n",
    "\n",
    "# Display the plot\n",
    "plt.show()"
   ]
  },
  {
   "cell_type": "code",
   "execution_count": null,
   "metadata": {},
   "outputs": [],
   "source": []
  }
 ],
 "metadata": {
  "kernelspec": {
   "display_name": "Python 3",
   "language": "python",
   "name": "python3"
  },
  "language_info": {
   "codemirror_mode": {
    "name": "ipython",
    "version": 3
   },
   "file_extension": ".py",
   "mimetype": "text/x-python",
   "name": "python",
   "nbconvert_exporter": "python",
   "pygments_lexer": "ipython3",
   "version": "3.11.4"
  }
 },
 "nbformat": 4,
 "nbformat_minor": 2
}
